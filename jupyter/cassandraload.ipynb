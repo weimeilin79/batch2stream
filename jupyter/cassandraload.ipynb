{
 "cells": [
  {
   "cell_type": "code",
   "execution_count": 2,
   "id": "9c4425ed-acdc-4647-aded-b940a294b7ef",
   "metadata": {},
   "outputs": [
    {
     "name": "stdout",
     "output_type": "stream",
     "text": [
      "Requirement already satisfied: cassandra-driver in /opt/conda/lib/python3.11/site-packages (3.29.1)\n",
      "Requirement already satisfied: geomet<0.3,>=0.1 in /opt/conda/lib/python3.11/site-packages (from cassandra-driver) (0.2.1.post1)\n",
      "Requirement already satisfied: click in /opt/conda/lib/python3.11/site-packages (from geomet<0.3,>=0.1->cassandra-driver) (8.1.7)\n",
      "Requirement already satisfied: six in /opt/conda/lib/python3.11/site-packages (from geomet<0.3,>=0.1->cassandra-driver) (1.16.0)\n",
      "Note: you may need to restart the kernel to use updated packages.\n"
     ]
    }
   ],
   "source": [
    "pip install cassandra-driver"
   ]
  },
  {
   "cell_type": "code",
   "execution_count": 4,
   "id": "a6cfafee-ed1a-4067-8653-870e13e321c7",
   "metadata": {},
   "outputs": [],
   "source": [
    "import csv\n",
    "from cassandra.cluster import Cluster\n",
    "from cassandra.auth import PlainTextAuthProvider\n",
    "\n",
    "# Connect to Cassandra\n",
    "auth_provider = PlainTextAuthProvider(username='admin', password='admin')\n",
    "cluster = Cluster(['cassandra'], auth_provider=auth_provider)\n",
    "session = cluster.connect()\n",
    "\n",
    "# Select your keyspace\n",
    "session.set_keyspace('demo')\n",
    "\n",
    "# Define the CSV file location\n",
    "csv_file_path = 'boston_air_traffic_hourly2.csv'\n",
    "\n",
    "create_database_cql = \"CREATE KEYSPACE demo WITH replication = {'class': 'SimpleStrategy', 'replication_factor' : 1};\"\n",
    "session.execute(create_database_cql)\n",
    "\n",
    "# Create table (if not exists)\n",
    "create_table_cql = \"\"\"\n",
    "CREATE TABLE IF NOT EXISTS flight_data (\n",
    "    icao24 text,\n",
    "    callsign text,\n",
    "    origin_country text,\n",
    "    time_position bigint,\n",
    "    last_contact bigint,\n",
    "    longitude double,\n",
    "    latitude double,\n",
    "    baro_altitude double,\n",
    "    on_ground boolean,\n",
    "    velocity double,\n",
    "    true_track double,\n",
    "    vertical_rate double,\n",
    "    sensors text,\n",
    "    geo_altitude double,\n",
    "    squawk text,\n",
    "    spi boolean,\n",
    "    position_source int,\n",
    "    PRIMARY KEY (icao24, last_contact)\n",
    ") WITH cdc=true;\n",
    "\"\"\"\n",
    "session.execute(create_table_cql)\n",
    "\n",
    "create_result_table_cql=\"\"\"\n",
    "CREATE TABLE IF NOT EXISTS latest_flight_data (\n",
    "    callsign TEXT PRIMARY KEY,\n",
    "    longitude DOUBLE,\n",
    "    latitude DOUBLE,\n",
    "    on_ground BOOLEAN,\n",
    "    squawk TEXT\n",
    ");\n",
    "\"\"\"\n",
    "session.execute(create_result_table_cql)\n",
    "\n",
    "# Function to insert data into the table\n",
    "def insert_data(row):\n",
    "    insert_cql = \"\"\"\n",
    "    INSERT INTO flight_data (icao24, callsign, origin_country, time_position, last_contact, longitude, latitude, baro_altitude, on_ground, velocity, true_track, vertical_rate, sensors, geo_altitude, squawk, spi, position_source)\n",
    "    VALUES (%s, %s, %s, %s, %s, %s, %s, %s, %s, %s, %s, %s, %s, %s, %s, %s, %s)\n",
    "    \"\"\"\n",
    "    session.execute(insert_cql, row)\n",
    "\n",
    "# Read CSV and insert each row into Cassandra\n",
    "with open(csv_file_path, newline='') as csvfile:\n",
    "    reader = csv.reader(csvfile)\n",
    "    next(reader)  # Skip header row\n",
    "    for row in reader:\n",
    "        # Convert appropriate columns to their data types\n",
    "        row[3] = int(row[3]) if row[3] else None\n",
    "        row[4] = int(row[4]) if row[4] else None\n",
    "        row[5] = float(row[5]) if row[5] else None\n",
    "        row[6] = float(row[6]) if row[6] else None\n",
    "        row[7] = float(row[7]) if row[7] else None\n",
    "        row[8] = row[8].lower() == 'true'\n",
    "        row[9] = float(row[9]) if row[9] else None\n",
    "        row[10] = float(row[10]) if row[10] else None\n",
    "        row[11] = float(row[11]) if row[11] else None\n",
    "        row[13] = float(row[13]) if row[13] else None\n",
    "        row[15] = row[15].lower() == 'true'\n",
    "        row[16] = int(row[16]) if row[16] else None\n",
    "        insert_data(row)\n",
    "\n",
    "# Close the connection\n",
    "cluster.shutdown()\n"
   ]
  },
  {
   "cell_type": "code",
   "execution_count": null,
   "id": "d6e9d23b-efa0-4733-9893-5ae6a4e79e5e",
   "metadata": {},
   "outputs": [],
   "source": []
  }
 ],
 "metadata": {
  "kernelspec": {
   "display_name": "Python 3 (ipykernel)",
   "language": "python",
   "name": "python3"
  },
  "language_info": {
   "codemirror_mode": {
    "name": "ipython",
    "version": 3
   },
   "file_extension": ".py",
   "mimetype": "text/x-python",
   "name": "python",
   "nbconvert_exporter": "python",
   "pygments_lexer": "ipython3",
   "version": "3.11.6"
  }
 },
 "nbformat": 4,
 "nbformat_minor": 5
}
