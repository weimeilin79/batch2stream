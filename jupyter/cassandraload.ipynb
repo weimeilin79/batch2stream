{
 "cells": [
  {
   "cell_type": "code",
   "execution_count": null,
   "id": "9c4425ed-acdc-4647-aded-b940a294b7ef",
   "metadata": {},
   "outputs": [],
   "source": [
    "pip install cassandra-driver"
   ]
  },
  {
   "cell_type": "code",
   "execution_count": null,
   "id": "a6cfafee-ed1a-4067-8653-870e13e321c7",
   "metadata": {},
   "outputs": [],
   "source": [
    "import csv\n",
    "from cassandra.cluster import Cluster\n",
    "from cassandra.auth import PlainTextAuthProvider\n",
    "\n",
    "# Connect to Cassandra\n",
    "auth_provider = PlainTextAuthProvider(username='cassandra', password='cassandra')\n",
    "cluster = Cluster(['scylladb'], auth_provider=auth_provider)\n",
    "session = cluster.connect()\n",
    "\n",
    "create_database_cql = \"CREATE KEYSPACE demo WITH replication = {'class': 'SimpleStrategy', 'replication_factor' : 1};\"\n",
    "session.execute(create_database_cql)\n",
    "\n",
    "session.set_keyspace('demo')\n",
    "\n",
    "create_result_table_cql=\"\"\"\n",
    "CREATE TABLE IF NOT EXISTS latest_flight_data (\n",
    "    callsign TEXT PRIMARY KEY,\n",
    "    longitude DOUBLE,\n",
    "    latitude DOUBLE,\n",
    "    on_ground BOOLEAN,\n",
    "    squawk TEXT\n",
    ");\n",
    "\"\"\"\n",
    "session.execute(create_result_table_cql)\n"
   ]
  },
  {
   "cell_type": "code",
   "execution_count": null,
   "id": "d6e9d23b-efa0-4733-9893-5ae6a4e79e5e",
   "metadata": {},
   "outputs": [],
   "source": []
  }
 ],
 "metadata": {
  "kernelspec": {
   "display_name": "Python 3 (ipykernel)",
   "language": "python",
   "name": "python3"
  },
  "language_info": {
   "codemirror_mode": {
    "name": "ipython",
    "version": 3
   },
   "file_extension": ".py",
   "mimetype": "text/x-python",
   "name": "python",
   "nbconvert_exporter": "python",
   "pygments_lexer": "ipython3",
   "version": "3.11.6"
  }
 },
 "nbformat": 4,
 "nbformat_minor": 5
}
