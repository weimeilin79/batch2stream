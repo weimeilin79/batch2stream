{
 "cells": [
  {
   "cell_type": "code",
   "execution_count": 1,
   "id": "9c4425ed-acdc-4647-aded-b940a294b7ef",
   "metadata": {},
   "outputs": [
    {
     "name": "stdout",
     "output_type": "stream",
     "text": [
      "Collecting cassandra-driver\n",
      "  Downloading cassandra_driver-3.29.1-cp311-cp311-manylinux_2_17_x86_64.manylinux2014_x86_64.whl.metadata (5.9 kB)\n",
      "Collecting geomet<0.3,>=0.1 (from cassandra-driver)\n",
      "  Downloading geomet-0.2.1.post1-py3-none-any.whl.metadata (1.0 kB)\n",
      "Requirement already satisfied: click in /opt/conda/lib/python3.11/site-packages (from geomet<0.3,>=0.1->cassandra-driver) (8.1.7)\n",
      "Requirement already satisfied: six in /opt/conda/lib/python3.11/site-packages (from geomet<0.3,>=0.1->cassandra-driver) (1.16.0)\n",
      "Downloading cassandra_driver-3.29.1-cp311-cp311-manylinux_2_17_x86_64.manylinux2014_x86_64.whl (20.1 MB)\n",
      "\u001b[2K   \u001b[90m━━━━━━━━━━━━━━━━━━━━━━━━━━━━━━━━━━━━━━━━\u001b[0m \u001b[32m20.1/20.1 MB\u001b[0m \u001b[31m34.0 MB/s\u001b[0m eta \u001b[36m0:00:00\u001b[0m00:01\u001b[0m00:01\u001b[0m\n",
      "\u001b[?25hDownloading geomet-0.2.1.post1-py3-none-any.whl (18 kB)\n",
      "Installing collected packages: geomet, cassandra-driver\n",
      "Successfully installed cassandra-driver-3.29.1 geomet-0.2.1.post1\n",
      "Note: you may need to restart the kernel to use updated packages.\n"
     ]
    }
   ],
   "source": [
    "pip install cassandra-driver"
   ]
  },
  {
   "cell_type": "code",
   "execution_count": 5,
   "id": "a6cfafee-ed1a-4067-8653-870e13e321c7",
   "metadata": {},
   "outputs": [
    {
     "data": {
      "text/plain": [
       "<cassandra.cluster.ResultSet at 0x7f53ac17cb10>"
      ]
     },
     "execution_count": 5,
     "metadata": {},
     "output_type": "execute_result"
    }
   ],
   "source": [
    "import csv\n",
    "from cassandra.cluster import Cluster\n",
    "from cassandra.auth import PlainTextAuthProvider\n",
    "\n",
    "# Connect to Cassandra\n",
    "auth_provider = PlainTextAuthProvider(username='cassandra', password='cassandra')\n",
    "cluster = Cluster(['scylladb'], auth_provider=auth_provider)\n",
    "session = cluster.connect()\n",
    "\n",
    "create_database_cql = \"CREATE KEYSPACE demo WITH replication = {'class': 'SimpleStrategy', 'replication_factor' : 1};\"\n",
    "session.execute(create_database_cql)\n",
    "\n",
    "session.set_keyspace('demo')\n",
    "\n",
    "create_result_table_cql=\"\"\"\n",
    "CREATE TABLE IF NOT EXISTS latest_flight_data (\n",
    "    callsign TEXT PRIMARY KEY,\n",
    "    longitude DOUBLE,\n",
    "    latitude DOUBLE,\n",
    "    on_ground BOOLEAN,\n",
    "    squawk TEXT\n",
    ");\n",
    "\"\"\"\n",
    "session.execute(create_result_table_cql)\n"
   ]
  },
  {
   "cell_type": "code",
   "execution_count": null,
   "id": "d6e9d23b-efa0-4733-9893-5ae6a4e79e5e",
   "metadata": {},
   "outputs": [],
   "source": []
  }
 ],
 "metadata": {
  "kernelspec": {
   "display_name": "Python 3 (ipykernel)",
   "language": "python",
   "name": "python3"
  },
  "language_info": {
   "codemirror_mode": {
    "name": "ipython",
    "version": 3
   },
   "file_extension": ".py",
   "mimetype": "text/x-python",
   "name": "python",
   "nbconvert_exporter": "python",
   "pygments_lexer": "ipython3",
   "version": "3.11.6"
  }
 },
 "nbformat": 4,
 "nbformat_minor": 5
}
