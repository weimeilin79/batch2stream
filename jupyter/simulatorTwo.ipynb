{
 "cells": [
  {
   "cell_type": "code",
   "execution_count": null,
   "metadata": {},
   "outputs": [],
   "source": [
    "import os\n",
    "import shutil\n",
    "import time\n",
    "from datetime import datetime\n",
    "\n",
    "# Define the source and destination directories\n",
    "source_dir = '/path/to/source/directory'  # Update this path to your source directory of non-US CSV files\n",
    "dest_dir = '/ccc/REPLACEME'\n",
    "\n",
    "def move_files_sorted_by_timestamp(source, destination):\n",
    "    # List all files in the source directory\n",
    "    files = [f for f in os.listdir(source) if f.endswith('.csv') and 'non_us_boston_air_traffic' in f]\n",
    "    \n",
    "    # Sort files based on the timestamp in the filename\n",
    "    files.sort(key=lambda x: datetime.strptime(x, 'non_us_boston_air_traffic_%Y%m%d%H%M%S.csv'))\n",
    "    \n",
    "    # Move each file with a 15-second delay\n",
    "    for file in files:\n",
    "        src_path = os.path.join(source, file)\n",
    "        dest_path = os.path.join(destination, file)\n",
    "        \n",
    "        # Move the file\n",
    "        shutil.move(src_path, dest_path)\n",
    "        print(f\"Moved file {file} to {dest_dir}\")\n",
    "        \n",
    "        # Wait for 15 seconds before moving the next file\n",
    "        time.sleep(15)\n",
    "\n",
    "if __name__ == \"__main__\":\n",
    "    move_files_sorted_by_timestamp(source_dir, dest_dir)\n"
   ]
  }
 ],
 "metadata": {
  "language_info": {
   "name": "python"
  }
 },
 "nbformat": 4,
 "nbformat_minor": 2
}
