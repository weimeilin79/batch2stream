{
 "cells": [
  {
   "cell_type": "code",
   "execution_count": null,
   "metadata": {},
   "outputs": [],
   "source": [
    "pip install pandas psycopg2"
   ]
  },
  {
   "cell_type": "code",
   "execution_count": null,
   "metadata": {},
   "outputs": [],
   "source": [
    "import pandas as pd\n",
    "import psycopg2\n",
    "import time\n",
    "\n",
    "# Database connection parameters\n",
    "db_params = {\n",
    "    \"dbname\": \"demo\",\n",
    "    \"user\": \"postgres\",\n",
    "    \"password\": \"1234qwer\",  # replace 'your_password' with your actual password\n",
    "    \"host\": \"postgres\",\n",
    "    \"port\": 5432\n",
    "}\n",
    "\n",
    "def connect_db(params):\n",
    "    \"\"\"Establish a connection to the PostgreSQL database.\"\"\"\n",
    "    conn = psycopg2.connect(**params)\n",
    "    return conn\n",
    "\n",
    "def insert_data(row, conn):\n",
    "    \"\"\"Insert a single row into the PostgreSQL table.\"\"\"\n",
    "    with conn.cursor() as cur:\n",
    "        cur.execute(\"\"\"\n",
    "        INSERT INTO bos_air_traffic (icao24, callsign, origin_country, time_position, last_contact, longitude, \n",
    "                                     latitude, baro_altitude, on_ground, velocity, true_track, vertical_rate, sensors, \n",
    "                                     geo_altitude, squawk, spi, position_source)\n",
    "        VALUES (%s, %s, %s, %s, %s, %s, %s, %s, %s, %s, %s, %s, %s, %s, %s, %s, %s)\n",
    "        ON CONFLICT (callsign, last_contact) DO NOTHING;\n",
    "        \"\"\", (row['icao24'], row['callsign'], row['origin_country'], row['time_position'], row['last_contact'],\n",
    "              row['longitude'], row['latitude'], row['baro_altitude'], row['on_ground'], row['velocity'],\n",
    "              row['true_track'], row['vertical_rate'], row['sensors'], row['geo_altitude'], row['squawk'],\n",
    "              row['spi'], row['position_source']))\n",
    "        conn.commit()\n",
    "\n",
    "def process_data(file_path, db_params):\n",
    "    \"\"\"Read data from CSV and insert into the database.\"\"\"\n",
    "    # Connect to the database\n",
    "    conn = connect_db(db_params)\n",
    "    \n",
    "    try:\n",
    "        # Load data from CSV\n",
    "        df = pd.read_csv(file_path)\n",
    "        \n",
    "        # Iterate over the DataFrame rows\n",
    "        for index, row in df.iterrows():\n",
    "            insert_data(row, conn)\n",
    "            print(f\"Inserted row {index + 1}\")\n",
    "            time.sleep(3)  # Wait for 3 seconds before the next insert\n",
    "    finally:\n",
    "        conn.close()  # Ensure the connection is closed\n",
    "\n",
    "if __name__ == \"__main__\":\n",
    "    file_path = 'us_boston_air_traffic_hourly.csv'  # Path to the CSV file\n",
    "    process_data(file_path, db_params)\n"
   ]
  }
 ],
 "metadata": {
  "language_info": {
   "name": "python"
  }
 },
 "nbformat": 4,
 "nbformat_minor": 2
}
