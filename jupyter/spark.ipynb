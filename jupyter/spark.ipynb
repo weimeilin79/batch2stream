{
 "cells": [
  {
   "cell_type": "code",
   "execution_count": null,
   "id": "92119524-7f48-4b8f-87d0-bfd29aba4999",
   "metadata": {},
   "outputs": [],
   "source": [
    "pip install numpy pandas SQLAlchemy psycopg2-binary"
   ]
  },
  {
   "cell_type": "code",
   "execution_count": null,
   "id": "8ab4424c-ee18-4c12-9a49-72eef5e4becf",
   "metadata": {},
   "outputs": [],
   "source": [
    "#Import related libaries\n",
    "import numpy as np\n",
    "import pandas as pd\n",
    "import os\n",
    "from sqlalchemy import create_engine\n",
    "from pyspark.sql import SparkSession\n",
    "from pyspark.sql.functions import lit\n",
    "\n",
    "spark = SparkSession.builder \\\n",
    "    .appName(\"PySpark PostgreSQL and Cassandra Example\") \\\n",
    "    .master(\"local[*]\") \\\n",
    "    .config(\"spark.executor.memory\", \"2g\") \\\n",
    "    .config(\"spark.jars.packages\", \"org.postgresql:postgresql:42.7.2,com.datastax.spark:spark-cassandra-connector_2.12:3.0.0\") \\\n",
    "    .config(\"spark.cassandra.connection.host\", \"scylladb\") \\\n",
    "    .config(\"spark.cassandra.connection.port\", \"9042\") \\\n",
    "    .config(\"spark.cassandra.auth.username\", \"cassandra\") \\\n",
    "    .config(\"spark.cassandra.auth.password\", \"cassandra\") \\\n",
    "    .getOrCreate()\n",
    "\n",
    "df_postgres = spark.read \\\n",
    "    .format(\"jdbc\") \\\n",
    "    .option(\"url\", \"jdbc:postgresql://postgres:5432/demo\") \\\n",
    "    .option(\"dbtable\", \"bos_air_traffic\") \\\n",
    "    .option(\"user\", \"postgres\") \\\n",
    "    .option(\"password\", \"1234qwer\") \\\n",
    "    .option(\"driver\", \"org.postgresql.Driver\") \\\n",
    "    .load()\n",
    "\n",
    "df_postgres.show()"
   ]
  },
  {
   "cell_type": "code",
   "execution_count": null,
   "id": "721b0d77-cd0d-438d-92cb-d9f5f55aee83",
   "metadata": {},
   "outputs": [],
   "source": [
    "# Read CSV files from a directory\n",
    "df_csv = spark.read \\\n",
    "    .format(\"csv\") \\\n",
    "    .option(\"header\", True) \\\n",
    "    .option(\"inferSchema\", \"true\") \\\n",
    "    .load(\"./sensorInput\")  \n",
    "\n",
    "df_csv.show()"
   ]
  },
  {
   "cell_type": "code",
   "execution_count": null,
   "id": "18d9255d-e039-4cf7-8b56-ed13033e2c96",
   "metadata": {},
   "outputs": [],
   "source": [
    "\n",
    "from pyspark.sql.functions import col, row_number, length\n",
    "from pyspark.sql.window import Window\n",
    "from pyspark.sql.functions import lit\n",
    "\n",
    "# Continuing from the previous step where df_csv was loaded\n",
    "\n",
    "\n",
    "# Union the data from PostgreSQL and CSV (adjust the renaming to match your schema)\n",
    "df_combined = df_postgres.unionByName(df_csv)\n",
    "\n",
    "# Define the window specification for deduplication based on some criteria like 'callsign'\n",
    "windowSpec = Window.partitionBy(\"callsign\").orderBy(col(\"last_contact\").desc())\n",
    "\n",
    "# Apply the window function to add a row number within each partition\n",
    "df_combined_with_row_number = df_combined.withColumn(\"row_num\", row_number().over(windowSpec))\n",
    "\n",
    "# Filter to get only the latest records for each 'callsign', assuming 'callsign' must be non-empty\n",
    "df_latest = df_combined_with_row_number.filter(\n",
    "    (col(\"row_num\") == 1) &\n",
    "    col(\"callsign\").isNotNull() &\n",
    "    (length(col(\"callsign\")) > 0)\n",
    ").select(\n",
    "    \"callsign\", \"longitude\", \"latitude\", \"on_ground\", \"squawk\"\n",
    ")\n",
    "\n",
    "# Show the DataFrame to verify the content\n",
    "df_latest.show()\n",
    "\n",
    "\n"
   ]
  },
  {
   "cell_type": "code",
   "execution_count": null,
   "id": "1740a1b5-c5aa-4e7c-9a9e-cbc6c43f618a",
   "metadata": {},
   "outputs": [],
   "source": [
    "# Write the results back to Cassandra in a table designed for latest flight data\n",
    "df_latest.write \\\n",
    "    .format(\"org.apache.spark.sql.cassandra\") \\\n",
    "    .mode('append') \\\n",
    "    .option(\"keyspace\", \"demo\") \\\n",
    "    .option(\"table\", \"latest_flight_data\") \\\n",
    "    .save()"
   ]
  },
  {
   "cell_type": "code",
   "execution_count": null,
   "id": "b91e793a-72a8-42ac-9e98-2c04435bb3e7",
   "metadata": {},
   "outputs": [],
   "source": []
  }
 ],
 "metadata": {
  "kernelspec": {
   "display_name": "Python 3 (ipykernel)",
   "language": "python",
   "name": "python3"
  },
  "language_info": {
   "codemirror_mode": {
    "name": "ipython",
    "version": 3
   },
   "file_extension": ".py",
   "mimetype": "text/x-python",
   "name": "python",
   "nbconvert_exporter": "python",
   "pygments_lexer": "ipython3",
   "version": "3.11.6"
  }
 },
 "nbformat": 4,
 "nbformat_minor": 5
}
