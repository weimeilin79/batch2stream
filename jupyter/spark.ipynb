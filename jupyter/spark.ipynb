{
 "cells": [
  {
   "cell_type": "code",
   "execution_count": null,
   "id": "92119524-7f48-4b8f-87d0-bfd29aba4999",
   "metadata": {},
   "outputs": [],
   "source": [
    "pip install numpy pandas seaborn matplotlib plotly SQLAlchemy psycopg2-binary"
   ]
  },
  {
   "cell_type": "code",
   "execution_count": null,
   "id": "9a47b0fa-fb2b-4109-9c41-77d89cfebf7d",
   "metadata": {},
   "outputs": [],
   "source": [
    "#Import related libaries\n",
    "import numpy as np\n",
    "import pandas as pd\n",
    "import os\n",
    "from sqlalchemy import create_engine\n",
    "from pyspark.sql import SparkSession\n",
    "from pyspark.sql.functions import lit\n",
    "\n"
   ]
  },
  {
   "cell_type": "code",
   "execution_count": null,
   "id": "8ab4424c-ee18-4c12-9a49-72eef5e4becf",
   "metadata": {},
   "outputs": [],
   "source": [
    "\n",
    "spark = SparkSession.builder \\\n",
    "    .appName(\"PySpark PostgreSQL and Cassandra Example\") \\\n",
    "    .master(\"local[*]\") \\\n",
    "    .config(\"spark.executor.memory\", \"2g\") \\\n",
    "    .config(\"spark.jars.packages\", \"org.postgresql:postgresql:42.7.2,com.datastax.spark:spark-cassandra-connector_2.12:3.0.0\") \\\n",
    "    .config(\"spark.cassandra.connection.host\", \"cassandra\") \\\n",
    "    .config(\"spark.cassandra.connection.port\", \"9042\") \\\n",
    "    .config(\"spark.cassandra.auth.username\", \"admin\") \\\n",
    "    .config(\"spark.cassandra.auth.password\", \"admin\") \\\n",
    "    .getOrCreate()"
   ]
  },
  {
   "cell_type": "code",
   "execution_count": 7,
   "id": "60c5d99f-2a89-409d-893d-2e30edd3b71f",
   "metadata": {},
   "outputs": [
    {
     "name": "stdout",
     "output_type": "stream",
     "text": [
      "+------+--------+--------------+-------------+------------+---------+--------+-------------+---------+--------+----------+-------------+-------+------------+------+-----+---------------+\n",
      "|icao24|callsign|origin_country|time_position|last_contact|longitude|latitude|baro_altitude|on_ground|velocity|true_track|vertical_rate|sensors|geo_altitude|squawk|  spi|position_source|\n",
      "+------+--------+--------------+-------------+------------+---------+--------+-------------+---------+--------+----------+-------------+-------+------------+------+-----+---------------+\n",
      "|4b1881|SWR52   |   Switzerland|   1713398182|  1713398182| -71.0071| 42.3607|       -68.58|    false|   70.63|     20.02|        -0.65|   NULL|      -15.24|  NULL|false|              0|\n",
      "|a0311d|DAL2420 | United States|   1713398182|  1713398182| -71.0167| 42.3573|         NULL|     true|    2.83|    236.25|         NULL|   NULL|        NULL|  NULL|false|              0|\n",
      "|49530a|TAP215  |      Portugal|   1713397890|  1713397890| -71.0234| 42.3725|         NULL|     true|     0.0|     61.88|         NULL|   NULL|        NULL|  NULL|false|              0|\n",
      "|a2ce7d|FDX3714 | United States|   1713398182|  1713398182| -70.9791| 42.3796|      1859.28|    false|  130.01|    154.45|        -9.43|   NULL|     1874.52|4075.0|false|              0|\n",
      "|a7d83a|VNT06   | United States|   1713398175|  1713398179| -71.0216| 42.3744|         NULL|     true|     0.0|    312.19|         NULL|   NULL|        NULL|  NULL|false|              0|\n",
      "|a1fbd9|RPA5628 | United States|   1713398182|  1713398182|  -71.012| 42.3683|         NULL|     true|    7.46|     135.0|         NULL|   NULL|        NULL|2242.0|false|              0|\n",
      "|a03b67|DAL1707 | United States|   1713398140|  1713398140| -71.0245| 42.3639|         NULL|     true|    0.19|    272.81|         NULL|   NULL|        NULL|5751.0|false|              0|\n",
      "|a1be10|RPA5751 | United States|   1713398081|  1713398087| -71.0213| 42.3628|         NULL|     true|    0.64|    255.94|         NULL|   NULL|        NULL|  NULL|false|              0|\n",
      "|a67805|DAL937  | United States|   1713398181|  1713398181| -71.0023| 42.3746|         NULL|     true|   10.29|    348.75|         NULL|   NULL|        NULL|2070.0|false|              0|\n",
      "|a2d27c|JBU2754 | United States|   1713398178|  1713398178| -71.0139| 42.3664|         NULL|     true|     0.0|    244.69|         NULL|   NULL|        NULL|6516.0|false|              0|\n",
      "|a33a1d|JBU1246 | United States|   1713398178|  1713398178| -71.0147| 42.3662|         NULL|     true|     0.0|    213.75|         NULL|   NULL|        NULL|3042.0|false|              0|\n",
      "|ad9ac9|JBU1734 | United States|   1713398169|  1713398169| -71.0143|  42.368|         NULL|     true|     0.0|    258.75|         NULL|   NULL|        NULL|3220.0|false|              0|\n",
      "|a4c96c|JBU33   | United States|   1713398174|  1713398179| -71.0178| 42.3681|         NULL|     true|     0.0|    241.88|         NULL|   NULL|        NULL|  NULL|false|              0|\n",
      "|a01b56|DAL385  | United States|   1713398182|  1713398182| -70.9707| 42.3635|       320.04|    false|   80.23|     75.52|         11.7|   NULL|      350.52|  NULL|false|              0|\n",
      "|a3f82a|JBU1559 | United States|   1713398166|  1713398177| -71.0141| 42.3654|         NULL|     true|     0.0|    329.06|         NULL|   NULL|        NULL|1535.0|false|              0|\n",
      "|ad2baa|JBU2052 | United States|   1713398182|  1713398182| -71.0505|  42.271|       487.68|    false|   94.06|     19.82|         -5.2|   NULL|      525.78|7371.0|false|              0|\n",
      "|4bb0f2|THY81D  |        Turkey|   1713398182|  1713398182| -71.0194|  42.371|         NULL|     true|    1.03|    213.75|         NULL|   NULL|        NULL|  NULL|false|              0|\n",
      "|a1f46b|RPA5805 | United States|   1713398182|  1713398182| -71.0124| 42.3654|         NULL|     true|     7.2|    199.69|         NULL|   NULL|        NULL|3773.0|false|              0|\n",
      "|a4c9f8|JBU8427 | United States|   1713397921|  1713397921| -71.0147| 42.3648|         NULL|     true|     0.0|    340.31|         NULL|   NULL|        NULL|  NULL|false|              0|\n",
      "|a1ecfd|RPA5691 | United States|   1713397995|  1713397995| -71.0216| 42.3636|         NULL|     true|     0.0|     39.38|         NULL|   NULL|        NULL| 513.0|false|              0|\n",
      "+------+--------+--------------+-------------+------------+---------+--------+-------------+---------+--------+----------+-------------+-------+------------+------+-----+---------------+\n",
      "only showing top 20 rows\n",
      "\n"
     ]
    }
   ],
   "source": [
    "df_postgres = spark.read \\\n",
    "    .format(\"jdbc\") \\\n",
    "    .option(\"url\", \"jdbc:postgresql://postgres:5432/demo\") \\\n",
    "    .option(\"dbtable\", \"bos_air_traffic\") \\\n",
    "    .option(\"user\", \"postgres\") \\\n",
    "    .option(\"password\", \"1234qwer\") \\\n",
    "    .option(\"driver\", \"org.postgresql.Driver\") \\\n",
    "    .load()\n",
    "\n",
    "df_postgres.show()\n",
    "\n"
   ]
  },
  {
   "cell_type": "code",
   "execution_count": 6,
   "id": "721b0d77-cd0d-438d-92cb-d9f5f55aee83",
   "metadata": {},
   "outputs": [
    {
     "name": "stdout",
     "output_type": "stream",
     "text": [
      "+------+------------+-------------+--------+------------+--------+---------+---------+--------------+---------------+-------+-----+------+-------------+----------+--------+-------------+\n",
      "|icao24|last_contact|baro_altitude|callsign|geo_altitude|latitude|longitude|on_ground|origin_country|position_source|sensors|  spi|squawk|time_position|true_track|velocity|vertical_rate|\n",
      "+------+------------+-------------+--------+------------+--------+---------+---------+--------------+---------------+-------+-----+------+-------------+----------+--------+-------------+\n",
      "|ade9c0|  1713400710|         NULL|JBU561  |        NULL|  42.369| -71.0166|     true| United States|              0|       |false|      |   1713400710|     33.75|    1.29|         NULL|\n",
      "|ade9c0|  1713400977|         NULL|JBU561  |        NULL| 42.3701| -71.0157|     true| United States|              0|       |false|      |   1713400977|     28.12|    3.34|         NULL|\n",
      "|ade9c0|  1713401036|         NULL|JBU561  |        NULL| 42.3696| -71.0137|     true| United States|              0|       |false|      |   1713401036|     135.0|    1.03|         NULL|\n",
      "|ade9c0|  1713401106|         NULL|JBU561  |        NULL| 42.3698| -71.0112|     true| United States|              0|       |false|      |   1713401106|     39.38|    7.72|         NULL|\n",
      "|ade9c0|  1713401149|         NULL|JBU561  |        NULL| 42.3732|  -71.009|     true| United States|              0|       |false|      |   1713401149|      22.5|   10.29|         NULL|\n",
      "|ade9c0|  1713401224|         NULL|JBU561  |        NULL|  42.378| -71.0067|     true| United States|              0|       |false|      |   1713401224|     19.69|    2.06|         NULL|\n",
      "|ade9c0|  1713401231|         NULL|JBU561  |        NULL|  42.378| -71.0066|     true| United States|              0|       |false|      |   1713401231|     19.69|    0.39|         NULL|\n",
      "|a83564|  1713400788|         NULL|EJA628  |        NULL| 42.3739| -71.0207|     true| United States|              0|       |false|  6313|   1713400788|    132.19|     0.0|         NULL|\n",
      "|a83564|  1713400863|         NULL|EJA628  |        NULL| 42.3739| -71.0207|     true| United States|              0|       |false|  6313|   1713400863|    132.19|     0.0|         NULL|\n",
      "|a83564|  1713400908|         NULL|EJA628  |        NULL| 42.3739| -71.0207|     true| United States|              0|       |false|  6313|   1713400908|    132.19|     0.0|         NULL|\n",
      "|a83564|  1713400974|         NULL|EJA628  |        NULL| 42.3739| -71.0207|     true| United States|              0|       |false|  6313|   1713400969|    132.19|     0.0|         NULL|\n",
      "|a83564|  1713401044|         NULL|EJA628  |        NULL| 42.3739| -71.0207|     true| United States|              0|       |false|  6313|   1713401044|    132.19|     0.0|         NULL|\n",
      "|a83564|  1713401103|         NULL|EJA628  |        NULL| 42.3739| -71.0207|     true| United States|              0|       |false|  6313|   1713401103|    132.19|     0.0|         NULL|\n",
      "|a83564|  1713401163|         NULL|EJA628  |        NULL| 42.3739| -71.0207|     true| United States|              0|       |false|  6313|   1713401163|    132.19|     0.0|         NULL|\n",
      "|a83564|  1713401224|         NULL|EJA628  |        NULL| 42.3739| -71.0207|     true| United States|              0|       |false|  6313|   1713401223|    132.19|     0.0|         NULL|\n",
      "|a83564|  1713401274|         NULL|EJA628  |        NULL| 42.3739| -71.0207|     true| United States|              0|       |false|  6313|   1713401273|    132.19|     0.0|         NULL|\n",
      "|a22ac6|  1713400743|       -53.34|RPA5622 |       -7.62| 42.3628| -71.0121|    false| United States|              0|       |false|      |   1713400743|    200.51|   80.74|         6.83|\n",
      "|a22ac6|  1713400791|       502.92|RPA5622 |       533.4|  42.333| -71.0077|    false| United States|              0|       |false|      |   1713400791|    125.72|   92.52|          3.9|\n",
      "|a22ac6|  1713400866|       1257.3|RPA5622 |     1287.78| 42.3179| -70.9121|    false| United States|              0|       |false|      |   1713400866|     79.16|  134.09|        11.38|\n",
      "|a22ac6|  1713400912|      1935.48|RPA5622 |     1965.96| 42.3286| -70.8367|    false| United States|              0|       |false|      |   1713400912|     79.26|  140.85|        12.68|\n",
      "+------+------------+-------------+--------+------------+--------+---------+---------+--------------+---------------+-------+-----+------+-------------+----------+--------+-------------+\n",
      "only showing top 20 rows\n",
      "\n"
     ]
    }
   ],
   "source": [
    "df_cassandra = spark.read \\\n",
    "    .format(\"org.apache.spark.sql.cassandra\") \\\n",
    "    .options(table=\"flight_data\", keyspace=\"demo\") \\\n",
    "    .load()\n",
    "\n",
    "# Show the DataFrame to verify the content\n",
    "df_cassandra.show()"
   ]
  },
  {
   "cell_type": "code",
   "execution_count": 14,
   "id": "18d9255d-e039-4cf7-8b56-ed13033e2c96",
   "metadata": {},
   "outputs": [
    {
     "name": "stdout",
     "output_type": "stream",
     "text": [
      "+--------+---------+--------+---------+------+\n",
      "|callsign|longitude|latitude|on_ground|squawk|\n",
      "+--------+---------+--------+---------+------+\n",
      "|AAL2148 | -71.0186| 42.3602|     true|2450.0|\n",
      "|ASA311  | -71.0172| 42.3636|     true|  NULL|\n",
      "|DAL1707 | -71.0245| 42.3639|     true|5751.0|\n",
      "|DAL2420 | -71.0167| 42.3573|     true|  NULL|\n",
      "|DAL385  | -70.9707| 42.3635|    false|  NULL|\n",
      "|DAL937  | -71.0023| 42.3746|     true|2070.0|\n",
      "|EJA377  | -71.0217| 42.3742|     true|2234.0|\n",
      "|FDX3714 | -70.9791| 42.3796|    false|4075.0|\n",
      "|JBU1246 | -71.0147| 42.3662|     true|3042.0|\n",
      "|JBU1303 |  -71.016| 42.3676|     true|  NULL|\n",
      "|JBU1559 | -71.0141| 42.3654|     true|1535.0|\n",
      "|JBU1734 | -71.0143|  42.368|     true|3220.0|\n",
      "|JBU2017 | -71.0137| 42.3661|     true|  NULL|\n",
      "|JBU2052 | -71.0505|  42.271|    false|7371.0|\n",
      "|JBU2185 | -71.0142| 42.3674|     true|  NULL|\n",
      "|JBU2230 | -70.9704| 42.2293|    false|3440.0|\n",
      "|JBU2754 | -71.0139| 42.3664|     true|6516.0|\n",
      "|JBU33   | -71.0178| 42.3681|     true|  NULL|\n",
      "|JBU561  | -71.0174| 42.3677|     true|  NULL|\n",
      "|JBU777  | -71.0157| 42.3644|     true|  NULL|\n",
      "+--------+---------+--------+---------+------+\n",
      "only showing top 20 rows\n",
      "\n"
     ]
    }
   ],
   "source": [
    "\n",
    "from pyspark.sql.functions import col, row_number, length\n",
    "from pyspark.sql.window import Window\n",
    "from pyspark.sql.functions import lit\n",
    "\n",
    "df_postgres_without_id = df_postgres.withColumn(\"Id\", lit(None))\n",
    "\n",
    "df_combined = df_postgres_without_id.unionByName(df_cassandra_with_id)\n",
    "\n",
    "# Assume the Spark session and DataFrame definitions are already set up\n",
    "# Define the window specification\n",
    "windowSpec = Window.partitionBy(\"callsign\").orderBy(col(\"last_contact\").desc())\n",
    "\n",
    "# Apply the window function\n",
    "df_combined_with_row_number = df_combined.withColumn(\"row_num\", row_number().over(windowSpec))\n",
    "\n",
    "# Filter to get only the latest records, where 'callsign' is not null or empty, and select required columns\n",
    "df_latest = df_combined_with_row_number.filter(\n",
    "    (col(\"row_num\") == 1) & \n",
    "    col(\"callsign\").isNotNull() &  # Correct usage\n",
    "    (length(col(\"callsign\")) > 0)\n",
    ").select(\n",
    "    \"callsign\", \"longitude\", \"latitude\", \"on_ground\", \"squawk\"\n",
    ")\n",
    "\n",
    "\n",
    "df_latest.show()"
   ]
  },
  {
   "cell_type": "code",
   "execution_count": null,
   "id": "1fd53060-3805-47b1-a6e7-a943b3abeb3e",
   "metadata": {},
   "outputs": [],
   "source": [
    "\n",
    "df_latest.write \\\n",
    "    .format(\"jdbc\") \\\n",
    "    .option(\"url\", \"jdbc:postgresql://postgres:5432/demo\") \\\n",
    "    .option(\"dbtable\", \"bos_flight_data\") \\\n",
    "    .option(\"user\", \"postgres\") \\\n",
    "    .option(\"password\", \"1234qwer\") \\\n",
    "    .option(\"driver\", \"org.postgresql.Driver\") \\\n",
    "    .mode(\"overwrite\") \\\n",
    "    .save()"
   ]
  },
  {
   "cell_type": "code",
   "execution_count": 16,
   "id": "1740a1b5-c5aa-4e7c-9a9e-cbc6c43f618a",
   "metadata": {},
   "outputs": [],
   "source": [
    "df_latest.write \\\n",
    "    .format(\"org.apache.spark.sql.cassandra\") \\\n",
    "    .mode('append')  \\\n",
    "    .option(\"keyspace\", \"demo\") \\\n",
    "    .option(\"table\", \"latest_flight_data\") \\\n",
    "    .save()"
   ]
  },
  {
   "cell_type": "code",
   "execution_count": null,
   "id": "83d642b3-6941-4813-961b-9428c77bc2b2",
   "metadata": {},
   "outputs": [],
   "source": []
  }
 ],
 "metadata": {
  "kernelspec": {
   "display_name": "Python 3 (ipykernel)",
   "language": "python",
   "name": "python3"
  },
  "language_info": {
   "codemirror_mode": {
    "name": "ipython",
    "version": 3
   },
   "file_extension": ".py",
   "mimetype": "text/x-python",
   "name": "python",
   "nbconvert_exporter": "python",
   "pygments_lexer": "ipython3",
   "version": "3.11.6"
  }
 },
 "nbformat": 4,
 "nbformat_minor": 5
}
