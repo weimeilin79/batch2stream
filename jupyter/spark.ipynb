{
 "cells": [
  {
   "cell_type": "code",
   "execution_count": 1,
   "id": "92119524-7f48-4b8f-87d0-bfd29aba4999",
   "metadata": {},
   "outputs": [
    {
     "name": "stdout",
     "output_type": "stream",
     "text": [
      "Requirement already satisfied: numpy in /opt/conda/lib/python3.11/site-packages (1.24.4)\n",
      "Requirement already satisfied: pandas in /opt/conda/lib/python3.11/site-packages (2.0.3)\n",
      "Requirement already satisfied: seaborn in /opt/conda/lib/python3.11/site-packages (0.13.0)\n",
      "Requirement already satisfied: matplotlib in /opt/conda/lib/python3.11/site-packages (3.8.0)\n",
      "Requirement already satisfied: plotly in /opt/conda/lib/python3.11/site-packages (5.21.0)\n",
      "Requirement already satisfied: SQLAlchemy in /opt/conda/lib/python3.11/site-packages (2.0.22)\n",
      "Requirement already satisfied: psycopg2-binary in /opt/conda/lib/python3.11/site-packages (2.9.9)\n",
      "Requirement already satisfied: python-dateutil>=2.8.2 in /opt/conda/lib/python3.11/site-packages (from pandas) (2.8.2)\n",
      "Requirement already satisfied: pytz>=2020.1 in /opt/conda/lib/python3.11/site-packages (from pandas) (2023.3.post1)\n",
      "Requirement already satisfied: tzdata>=2022.1 in /opt/conda/lib/python3.11/site-packages (from pandas) (2023.3)\n",
      "Requirement already satisfied: contourpy>=1.0.1 in /opt/conda/lib/python3.11/site-packages (from matplotlib) (1.1.1)\n",
      "Requirement already satisfied: cycler>=0.10 in /opt/conda/lib/python3.11/site-packages (from matplotlib) (0.12.1)\n",
      "Requirement already satisfied: fonttools>=4.22.0 in /opt/conda/lib/python3.11/site-packages (from matplotlib) (4.43.1)\n",
      "Requirement already satisfied: kiwisolver>=1.0.1 in /opt/conda/lib/python3.11/site-packages (from matplotlib) (1.4.5)\n",
      "Requirement already satisfied: packaging>=20.0 in /opt/conda/lib/python3.11/site-packages (from matplotlib) (23.2)\n",
      "Requirement already satisfied: pillow>=6.2.0 in /opt/conda/lib/python3.11/site-packages (from matplotlib) (10.1.0)\n",
      "Requirement already satisfied: pyparsing>=2.3.1 in /opt/conda/lib/python3.11/site-packages (from matplotlib) (3.1.1)\n",
      "Requirement already satisfied: tenacity>=6.2.0 in /opt/conda/lib/python3.11/site-packages (from plotly) (8.2.3)\n",
      "Requirement already satisfied: typing-extensions>=4.2.0 in /opt/conda/lib/python3.11/site-packages (from SQLAlchemy) (4.8.0)\n",
      "Requirement already satisfied: greenlet!=0.4.17 in /opt/conda/lib/python3.11/site-packages (from SQLAlchemy) (3.0.0)\n",
      "Requirement already satisfied: six>=1.5 in /opt/conda/lib/python3.11/site-packages (from python-dateutil>=2.8.2->pandas) (1.16.0)\n",
      "Note: you may need to restart the kernel to use updated packages.\n"
     ]
    }
   ],
   "source": [
    "pip install numpy pandas seaborn matplotlib plotly SQLAlchemy psycopg2-binary"
   ]
  },
  {
   "cell_type": "code",
   "execution_count": 3,
   "id": "9a47b0fa-fb2b-4109-9c41-77d89cfebf7d",
   "metadata": {},
   "outputs": [],
   "source": [
    "#Import related libaries\n",
    "import numpy as np\n",
    "import pandas as pd\n",
    "import os\n",
    "from sqlalchemy import create_engine\n",
    "from pyspark.sql import SparkSession\n",
    "from pyspark.sql.functions import lit\n",
    "\n"
   ]
  },
  {
   "cell_type": "code",
   "execution_count": 4,
   "id": "8ab4424c-ee18-4c12-9a49-72eef5e4becf",
   "metadata": {},
   "outputs": [],
   "source": [
    "\n",
    "spark = SparkSession.builder \\\n",
    "    .appName(\"PySpark PostgreSQL and Cassandra Example\") \\\n",
    "    .master(\"local[*]\") \\\n",
    "    .config(\"spark.executor.memory\", \"2g\") \\\n",
    "    .config(\"spark.jars.packages\", \"org.postgresql:postgresql:42.7.2,com.datastax.spark:spark-cassandra-connector_2.12:3.0.0\") \\\n",
    "    .config(\"spark.cassandra.connection.host\", \"cassandra\") \\\n",
    "    .config(\"spark.cassandra.connection.port\", \"9042\") \\\n",
    "    .config(\"spark.cassandra.auth.username\", \"admin\") \\\n",
    "    .config(\"spark.cassandra.auth.password\", \"admin\") \\\n",
    "    .getOrCreate()"
   ]
  },
  {
   "cell_type": "code",
   "execution_count": 8,
   "id": "60c5d99f-2a89-409d-893d-2e30edd3b71f",
   "metadata": {},
   "outputs": [
    {
     "name": "stdout",
     "output_type": "stream",
     "text": [
      "+------+--------+--------------+-------------+------------+---------+--------+-------------+---------+--------+----------+-------------+-------+------------+------+-----+---------------+\n",
      "|icao24|callsign|origin_country|time_position|last_contact|longitude|latitude|baro_altitude|on_ground|velocity|true_track|vertical_rate|sensors|geo_altitude|squawk|  spi|position_source|\n",
      "+------+--------+--------------+-------------+------------+---------+--------+-------------+---------+--------+----------+-------------+-------+------------+------+-----+---------------+\n",
      "|4b1881|SWR52   |   Switzerland|   1713398182|  1713398182| -71.0071| 42.3607|       -68.58|    false|   70.63|     20.02|        -0.65|   NULL|      -15.24|  NULL|false|              0|\n",
      "|a0311d|DAL2420 | United States|   1713398182|  1713398182| -71.0167| 42.3573|         NULL|     true|    2.83|    236.25|         NULL|   NULL|        NULL|  NULL|false|              0|\n",
      "|49530a|TAP215  |      Portugal|   1713397890|  1713397890| -71.0234| 42.3725|         NULL|     true|     0.0|     61.88|         NULL|   NULL|        NULL|  NULL|false|              0|\n",
      "|a2ce7d|FDX3714 | United States|   1713398182|  1713398182| -70.9791| 42.3796|      1859.28|    false|  130.01|    154.45|        -9.43|   NULL|     1874.52|4075.0|false|              0|\n",
      "|a7d83a|VNT06   | United States|   1713398175|  1713398179| -71.0216| 42.3744|         NULL|     true|     0.0|    312.19|         NULL|   NULL|        NULL|  NULL|false|              0|\n",
      "|a1fbd9|RPA5628 | United States|   1713398182|  1713398182|  -71.012| 42.3683|         NULL|     true|    7.46|     135.0|         NULL|   NULL|        NULL|2242.0|false|              0|\n",
      "|a03b67|DAL1707 | United States|   1713398140|  1713398140| -71.0245| 42.3639|         NULL|     true|    0.19|    272.81|         NULL|   NULL|        NULL|5751.0|false|              0|\n",
      "|a1be10|RPA5751 | United States|   1713398081|  1713398087| -71.0213| 42.3628|         NULL|     true|    0.64|    255.94|         NULL|   NULL|        NULL|  NULL|false|              0|\n",
      "|a67805|DAL937  | United States|   1713398181|  1713398181| -71.0023| 42.3746|         NULL|     true|   10.29|    348.75|         NULL|   NULL|        NULL|2070.0|false|              0|\n",
      "|a2d27c|JBU2754 | United States|   1713398178|  1713398178| -71.0139| 42.3664|         NULL|     true|     0.0|    244.69|         NULL|   NULL|        NULL|6516.0|false|              0|\n",
      "|a33a1d|JBU1246 | United States|   1713398178|  1713398178| -71.0147| 42.3662|         NULL|     true|     0.0|    213.75|         NULL|   NULL|        NULL|3042.0|false|              0|\n",
      "|ad9ac9|JBU1734 | United States|   1713398169|  1713398169| -71.0143|  42.368|         NULL|     true|     0.0|    258.75|         NULL|   NULL|        NULL|3220.0|false|              0|\n",
      "|a4c96c|JBU33   | United States|   1713398174|  1713398179| -71.0178| 42.3681|         NULL|     true|     0.0|    241.88|         NULL|   NULL|        NULL|  NULL|false|              0|\n",
      "|a01b56|DAL385  | United States|   1713398182|  1713398182| -70.9707| 42.3635|       320.04|    false|   80.23|     75.52|         11.7|   NULL|      350.52|  NULL|false|              0|\n",
      "|a3f82a|JBU1559 | United States|   1713398166|  1713398177| -71.0141| 42.3654|         NULL|     true|     0.0|    329.06|         NULL|   NULL|        NULL|1535.0|false|              0|\n",
      "|ad2baa|JBU2052 | United States|   1713398182|  1713398182| -71.0505|  42.271|       487.68|    false|   94.06|     19.82|         -5.2|   NULL|      525.78|7371.0|false|              0|\n",
      "|4bb0f2|THY81D  |        Turkey|   1713398182|  1713398182| -71.0194|  42.371|         NULL|     true|    1.03|    213.75|         NULL|   NULL|        NULL|  NULL|false|              0|\n",
      "|a1f46b|RPA5805 | United States|   1713398182|  1713398182| -71.0124| 42.3654|         NULL|     true|     7.2|    199.69|         NULL|   NULL|        NULL|3773.0|false|              0|\n",
      "|a4c9f8|JBU8427 | United States|   1713397921|  1713397921| -71.0147| 42.3648|         NULL|     true|     0.0|    340.31|         NULL|   NULL|        NULL|  NULL|false|              0|\n",
      "|a1ecfd|RPA5691 | United States|   1713397995|  1713397995| -71.0216| 42.3636|         NULL|     true|     0.0|     39.38|         NULL|   NULL|        NULL| 513.0|false|              0|\n",
      "+------+--------+--------------+-------------+------------+---------+--------+-------------+---------+--------+----------+-------------+-------+------------+------+-----+---------------+\n",
      "only showing top 20 rows\n",
      "\n"
     ]
    }
   ],
   "source": [
    "df_postgres = spark.read \\\n",
    "    .format(\"jdbc\") \\\n",
    "    .option(\"url\", \"jdbc:postgresql://postgres:5432/demo\") \\\n",
    "    .option(\"dbtable\", \"bos_air_traffic\") \\\n",
    "    .option(\"user\", \"postgres\") \\\n",
    "    .option(\"password\", \"1234qwer\") \\\n",
    "    .option(\"driver\", \"org.postgresql.Driver\") \\\n",
    "    .load()\n",
    "\n",
    "df_postgres.show()\n",
    "\n"
   ]
  },
  {
   "cell_type": "code",
   "execution_count": 11,
   "id": "721b0d77-cd0d-438d-92cb-d9f5f55aee83",
   "metadata": {},
   "outputs": [
    {
     "name": "stdout",
     "output_type": "stream",
     "text": [
      "+------+--------+--------------------+-------------+------------+---------+--------+-------------+---------+--------+----------+-------------+-------+------------+------+-----+---------------+\n",
      "|icao24|callsign|      origin_country|time_position|last_contact|longitude|latitude|baro_altitude|on_ground|velocity|true_track|vertical_rate|sensors|geo_altitude|squawk|  spi|position_source|\n",
      "+------+--------+--------------------+-------------+------------+---------+--------+-------------+---------+--------+----------+-------------+-------+------------+------+-----+---------------+\n",
      "|a6cacb|DAL408  |       United States|   1713400742|  1713400742| -71.0066|  42.378|         NULL|     true|    2.31|     19.69|         NULL|   NULL|        NULL|  NULL|false|              0|\n",
      "|a35d73|DAL1513 |       United States|   1713400742|  1713400742| -71.0235| 42.3614|         NULL|     true|    2.83|     180.0|         NULL|   NULL|        NULL|  NULL|false|              0|\n",
      "|a22ac6|RPA5622 |       United States|   1713400743|  1713400743| -71.0121| 42.3628|       -53.34|    false|   80.74|    200.51|         6.83|   NULL|       -7.62|  NULL|false|              0|\n",
      "|a22ab9|JBU2017 |       United States|   1713400737|  1713400737| -71.0089| 42.3733|         NULL|     true|    7.46|     19.69|         NULL|   NULL|        NULL|  NULL|false|              0|\n",
      "|a86540|PDT5730 |       United States|   1713400743|  1713400743| -70.9961| 42.3246|       525.78|    false|   102.5|    130.73|         8.78|   NULL|      556.26|  NULL|false|              0|\n",
      "|a1ba59|RPA5629 |       United States|   1713400709|  1713400709| -71.0237|  42.365|         NULL|     true|     0.0|    174.38|         NULL|   NULL|        NULL|  NULL|false|              0|\n",
      "|a88072|NKS2324 |       United States|   1713400784|  1713400791| -71.0058| 42.3784|         NULL|     true|     0.0|    101.25|         NULL|   NULL|        NULL|  NULL|false|              0|\n",
      "|aa099e|JBU393  |       United States|   1713400791|  1713400791| -70.8534| 42.3314|       1562.1|    false|  138.15|     55.01|        17.88|   NULL|     1592.58|  NULL|false|              0|\n",
      "|4cc279|ICE630  |             Iceland|   1713400761|  1713400761| -71.0186| 42.3718|         NULL|     true|     0.0|    123.75|         NULL|   NULL|        NULL|  NULL|false|              0|\n",
      "|a1fbd9|RPA5592 |       United States|   1713400618|  1713400618| -71.0232| 42.3656|         NULL|     true|     0.0|     98.44|         NULL|   NULL|        NULL|  NULL|false|              0|\n",
      "|a33a1d|JBU715  |       United States|   1713400777|  1713400777| -71.0147| 42.3662|         NULL|     true|     0.0|    213.75|         NULL|   NULL|        NULL|  3042|false|              0|\n",
      "|a2348d|RPA5671 |       United States|   1713400788|  1713400788|  -71.023| 42.3644|         NULL|     true|     0.0|     81.56|         NULL|   NULL|        NULL|  NULL|false|              0|\n",
      "|ad9ac9|JBU333  |       United States|   1713400791|  1713400791| -71.0143| 42.3681|         NULL|     true|     0.0|    258.75|         NULL|   NULL|        NULL|  3220|false|              0|\n",
      "|a5d623|UAL1449 |       United States|   1713400785|  1713400785|  -71.015| 42.3588|         NULL|     true|    7.72|    281.25|         NULL|   NULL|        NULL|  2541|false|              0|\n",
      "|ad2baa|JBU2052 |       United States|   1713400523|  1713400523| -71.0156| 42.3653|         NULL|     true|    1.29|     33.75|         NULL|   NULL|        NULL|  NULL|false|              0|\n",
      "|ad3581|JBU8582 |       United States|   1713400791|  1713400791|    -71.0| 42.3755|       -45.72|    false|   60.53|    199.36|        -3.58|   NULL|        7.62|  5653|false|              0|\n",
      "|a4c9f8|    NULL|       United States|   1713400780|  1713400780| -71.0144| 42.3641|         NULL|     true|     0.9|    298.12|         NULL|   NULL|        NULL|  NULL|false|              0|\n",
      "|896453|UAE62Y  |United Arab Emirates|   1713400598|  1713400602| -71.0214| 42.3707|         NULL|     true|    0.32|    149.06|         NULL|   NULL|        NULL|  NULL|false|              0|\n",
      "|a898a9|JBU691  |       United States|   1713400789|  1713400789| -71.0156| 42.3679|         NULL|     true|     0.0|    132.19|         NULL|   NULL|        NULL|  NULL|false|              0|\n",
      "|3475d3|IBE2625 |               Spain|   1713400787|  1713400787| -71.0173| 42.3699|         NULL|     true|     0.0|    289.69|         NULL|   NULL|        NULL|  NULL|false|              0|\n",
      "+------+--------+--------------------+-------------+------------+---------+--------+-------------+---------+--------+----------+-------------+-------+------------+------+-----+---------------+\n",
      "only showing top 20 rows\n",
      "\n"
     ]
    }
   ],
   "source": [
    "# Read CSV files from a directory\n",
    "df_csv = spark.read \\\n",
    "    .format(\"csv\") \\\n",
    "    .option(\"header\", True) \\\n",
    "    .option(\"inferSchema\", \"true\") \\\n",
    "    .load(\"./sensorInput\")  \n",
    "\n",
    "df_csv.show()"
   ]
  },
  {
   "cell_type": "code",
   "execution_count": 14,
   "id": "18d9255d-e039-4cf7-8b56-ed13033e2c96",
   "metadata": {},
   "outputs": [
    {
     "name": "stdout",
     "output_type": "stream",
     "text": [
      "+--------+---------+--------+---------+------+\n",
      "|callsign|longitude|latitude|on_ground|squawk|\n",
      "+--------+---------+--------+---------+------+\n",
      "|AAL1074 | -71.0202| 42.3614|     true|6246.0|\n",
      "|AAL2148 | -71.0186| 42.3603|     true|  NULL|\n",
      "|ASA311  | -71.0172| 42.3636|     true|  NULL|\n",
      "|DAL1513 | -71.0057| 42.3784|     true|  NULL|\n",
      "|DAL154  | -71.0245| 42.3722|     true|  NULL|\n",
      "|DAL1707 | -71.0245| 42.3639|     true|5751.0|\n",
      "|DAL174  | -70.8058| 42.3828|    false|7137.0|\n",
      "|DAL2420 | -71.0167| 42.3573|     true|  NULL|\n",
      "|DAL262  | -71.1536| 42.3763|    false|1047.0|\n",
      "|DAL385  | -70.9707| 42.3635|    false|  NULL|\n",
      "|DAL408  | -70.7663| 42.3443|    false|  NULL|\n",
      "|DAL937  | -71.0023| 42.3746|     true|2070.0|\n",
      "|EJA377  | -71.0217| 42.3742|     true|2234.0|\n",
      "|EJA628  | -71.0207| 42.3739|     true|6313.0|\n",
      "|EJA918  |  -71.022| 42.3741|     true|  NULL|\n",
      "|FDX3714 | -70.9791| 42.3796|    false|4075.0|\n",
      "|IBE2625 | -71.0173| 42.3699|     true|  NULL|\n",
      "|ICE630  | -71.0172| 42.3529|    false|  NULL|\n",
      "|JBU1246 | -71.0147| 42.3662|     true|3042.0|\n",
      "|JBU1303 |  -71.016| 42.3676|     true|  NULL|\n",
      "+--------+---------+--------+---------+------+\n",
      "only showing top 20 rows\n",
      "\n"
     ]
    }
   ],
   "source": [
    "\n",
    "from pyspark.sql.functions import col, row_number, length\n",
    "from pyspark.sql.window import Window\n",
    "from pyspark.sql.functions import lit\n",
    "\n",
    "# Continuing from the previous step where df_csv was loaded\n",
    "\n",
    "\n",
    "# Union the data from PostgreSQL and CSV (adjust the renaming to match your schema)\n",
    "df_combined = df_postgres.unionByName(df_csv)\n",
    "\n",
    "# Define the window specification for deduplication based on some criteria like 'callsign'\n",
    "windowSpec = Window.partitionBy(\"callsign\").orderBy(col(\"last_contact\").desc())\n",
    "\n",
    "# Apply the window function to add a row number within each partition\n",
    "df_combined_with_row_number = df_combined.withColumn(\"row_num\", row_number().over(windowSpec))\n",
    "\n",
    "# Filter to get only the latest records for each 'callsign', assuming 'callsign' must be non-empty\n",
    "df_latest = df_combined_with_row_number.filter(\n",
    "    (col(\"row_num\") == 1) &\n",
    "    col(\"callsign\").isNotNull() &\n",
    "    (length(col(\"callsign\")) > 0)\n",
    ").select(\n",
    "    \"callsign\", \"longitude\", \"latitude\", \"on_ground\", \"squawk\"\n",
    ")\n",
    "\n",
    "# Show the DataFrame to verify the content\n",
    "df_latest.show()\n",
    "\n",
    "\n"
   ]
  },
  {
   "cell_type": "code",
   "execution_count": 15,
   "id": "1740a1b5-c5aa-4e7c-9a9e-cbc6c43f618a",
   "metadata": {},
   "outputs": [],
   "source": [
    "# Write the results back to Cassandra in a table designed for latest flight data\n",
    "df_latest.write \\\n",
    "    .format(\"org.apache.spark.sql.cassandra\") \\\n",
    "    .mode('append') \\\n",
    "    .option(\"keyspace\", \"demo\") \\\n",
    "    .option(\"table\", \"latest_flight_data\") \\\n",
    "    .save()"
   ]
  },
  {
   "cell_type": "code",
   "execution_count": null,
   "id": "83d642b3-6941-4813-961b-9428c77bc2b2",
   "metadata": {},
   "outputs": [],
   "source": []
  }
 ],
 "metadata": {
  "kernelspec": {
   "display_name": "Python 3 (ipykernel)",
   "language": "python",
   "name": "python3"
  },
  "language_info": {
   "codemirror_mode": {
    "name": "ipython",
    "version": 3
   },
   "file_extension": ".py",
   "mimetype": "text/x-python",
   "name": "python",
   "nbconvert_exporter": "python",
   "pygments_lexer": "ipython3",
   "version": "3.11.6"
  }
 },
 "nbformat": 4,
 "nbformat_minor": 5
}
